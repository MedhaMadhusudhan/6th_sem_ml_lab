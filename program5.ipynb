{
 "cells": [
  {
   "cell_type": "code",
   "execution_count": 2,
   "metadata": {},
   "outputs": [],
   "source": [
    "class Node:\n",
    "    def __init__(self, label):\n",
    "        self.label = label\n",
    "        self.parents = None\n",
    "        self.table = dict()"
   ]
  },
  {
   "cell_type": "code",
   "execution_count": 3,
   "metadata": {},
   "outputs": [],
   "source": [
    "burglary = Node('burglary')\n",
    "burglary.table['burglary=True'] = 0.001\n",
    "burglary.table['burglary=False'] = 0.999\n",
    "\n",
    "earthquake = Node('earthquake')\n",
    "earthquake.table['earthquake=True'] = 0.002\n",
    "earthquake.table['earthquake=False'] = 0.998"
   ]
  },
  {
   "cell_type": "code",
   "execution_count": 4,
   "metadata": {},
   "outputs": [],
   "source": [
    "alarm = Node('alarm')\n",
    "alarm.parents = [burglary, earthquake]\n",
    "alarm.table['burglary=True & alarm=True'] = 0.95\n",
    "alarm.table['burglary=True & alarm=False'] = 0.94\n",
    "alarm.table['burglary=False & alarm=True'] = 0.29\n",
    "alarm.table['burglary=False & alarm=False'] = 0.001"
   ]
  },
  {
   "cell_type": "code",
   "execution_count": 5,
   "metadata": {},
   "outputs": [],
   "source": [
    "john_calls = Node('johncalls')\n",
    "john_calls.parents = [alarm]\n",
    "john_calls.table['alarm=True'] = 0.9\n",
    "john_calls.table['alarm=False'] = 0.05\n",
    "\n",
    "mary_calls = Node('marycalls')\n",
    "mary_calls.parents = [alarm]\n",
    "mary_calls.table['alarm=True'] = 0.7\n",
    "mary_calls.table['alarm=False'] = 0.01"
   ]
  },
  {
   "cell_type": "code",
   "execution_count": 6,
   "metadata": {},
   "outputs": [],
   "source": [
    "input_values = dict()\n",
    "input_values['burglary'] = True\n",
    "input_values['earthquake'] = None\n",
    "input_values['alarm'] = None\n",
    "input_values['johncalls'] = True\n",
    "input_values['marycalls'] = True"
   ]
  },
  {
   "cell_type": "code",
   "execution_count": 7,
   "metadata": {},
   "outputs": [
    {
     "name": "stdout",
     "output_type": "stream",
     "text": [
      "burglary:\n",
      "earthquake:\n",
      "alarm:\n",
      "johncalls:\n",
      "marycalls:\n",
      "{'burglary': None, 'earthquake': None, 'alarm': None, 'johncalls': None, 'marycalls': None}\n"
     ]
    }
   ],
   "source": [
    "def bayesian_belief():\n",
    "    prob = 1\n",
    "    for key in input_values.keys():\n",
    "        if input_values[key] == None:\n",
    "            pass\n",
    "    return prob"
   ]
  },
  {
   "cell_type": "code",
   "execution_count": null,
   "metadata": {},
   "outputs": [],
   "source": []
  }
 ],
 "metadata": {
  "interpreter": {
   "hash": "916dbcbb3f70747c44a77c7bcd40155683ae19c65e1c03b4aa3499c5328201f1"
  },
  "kernelspec": {
   "display_name": "Python 3.8.10 64-bit",
   "language": "python",
   "name": "python3"
  },
  "language_info": {
   "codemirror_mode": {
    "name": "ipython",
    "version": 3
   },
   "file_extension": ".py",
   "mimetype": "text/x-python",
   "name": "python",
   "nbconvert_exporter": "python",
   "pygments_lexer": "ipython3",
   "version": "3.8.10"
  },
  "orig_nbformat": 4
 },
 "nbformat": 4,
 "nbformat_minor": 2
}
