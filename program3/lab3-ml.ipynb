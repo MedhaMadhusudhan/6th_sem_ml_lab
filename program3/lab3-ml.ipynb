{
 "cells": [
  {
   "cell_type": "code",
   "execution_count": 1,
   "metadata": {},
   "outputs": [],
   "source": [
    "import pandas as pd"
   ]
  },
  {
   "cell_type": "code",
   "execution_count": 2,
   "metadata": {},
   "outputs": [],
   "source": [
    "dataset = pd.read_csv('id3data.csv')"
   ]
  },
  {
   "cell_type": "code",
   "execution_count": 3,
   "metadata": {},
   "outputs": [
    {
     "data": {
      "text/html": [
       "<div>\n",
       "<style scoped>\n",
       "    .dataframe tbody tr th:only-of-type {\n",
       "        vertical-align: middle;\n",
       "    }\n",
       "\n",
       "    .dataframe tbody tr th {\n",
       "        vertical-align: top;\n",
       "    }\n",
       "\n",
       "    .dataframe thead th {\n",
       "        text-align: right;\n",
       "    }\n",
       "</style>\n",
       "<table border=\"1\" class=\"dataframe\">\n",
       "  <thead>\n",
       "    <tr style=\"text-align: right;\">\n",
       "      <th></th>\n",
       "      <th>Outlook</th>\n",
       "      <th>Temperature</th>\n",
       "      <th>Humidity</th>\n",
       "      <th>Wind</th>\n",
       "      <th>Answer</th>\n",
       "    </tr>\n",
       "  </thead>\n",
       "  <tbody>\n",
       "    <tr>\n",
       "      <th>0</th>\n",
       "      <td>sunny</td>\n",
       "      <td>hot</td>\n",
       "      <td>high</td>\n",
       "      <td>weak</td>\n",
       "      <td>no</td>\n",
       "    </tr>\n",
       "    <tr>\n",
       "      <th>1</th>\n",
       "      <td>sunny</td>\n",
       "      <td>hot</td>\n",
       "      <td>high</td>\n",
       "      <td>strong</td>\n",
       "      <td>no</td>\n",
       "    </tr>\n",
       "    <tr>\n",
       "      <th>2</th>\n",
       "      <td>overcast</td>\n",
       "      <td>hot</td>\n",
       "      <td>high</td>\n",
       "      <td>weak</td>\n",
       "      <td>yes</td>\n",
       "    </tr>\n",
       "    <tr>\n",
       "      <th>3</th>\n",
       "      <td>rain</td>\n",
       "      <td>mild</td>\n",
       "      <td>high</td>\n",
       "      <td>weak</td>\n",
       "      <td>yes</td>\n",
       "    </tr>\n",
       "    <tr>\n",
       "      <th>4</th>\n",
       "      <td>rain</td>\n",
       "      <td>cool</td>\n",
       "      <td>normal</td>\n",
       "      <td>weak</td>\n",
       "      <td>yes</td>\n",
       "    </tr>\n",
       "    <tr>\n",
       "      <th>5</th>\n",
       "      <td>rain</td>\n",
       "      <td>cool</td>\n",
       "      <td>normal</td>\n",
       "      <td>strong</td>\n",
       "      <td>no</td>\n",
       "    </tr>\n",
       "    <tr>\n",
       "      <th>6</th>\n",
       "      <td>overcast</td>\n",
       "      <td>cool</td>\n",
       "      <td>normal</td>\n",
       "      <td>strong</td>\n",
       "      <td>yes</td>\n",
       "    </tr>\n",
       "    <tr>\n",
       "      <th>7</th>\n",
       "      <td>sunny</td>\n",
       "      <td>mild</td>\n",
       "      <td>high</td>\n",
       "      <td>weak</td>\n",
       "      <td>no</td>\n",
       "    </tr>\n",
       "    <tr>\n",
       "      <th>8</th>\n",
       "      <td>sunny</td>\n",
       "      <td>cool</td>\n",
       "      <td>normal</td>\n",
       "      <td>weak</td>\n",
       "      <td>yes</td>\n",
       "    </tr>\n",
       "    <tr>\n",
       "      <th>9</th>\n",
       "      <td>rain</td>\n",
       "      <td>mild</td>\n",
       "      <td>normal</td>\n",
       "      <td>weak</td>\n",
       "      <td>yes</td>\n",
       "    </tr>\n",
       "    <tr>\n",
       "      <th>10</th>\n",
       "      <td>sunny</td>\n",
       "      <td>mild</td>\n",
       "      <td>normal</td>\n",
       "      <td>strong</td>\n",
       "      <td>yes</td>\n",
       "    </tr>\n",
       "    <tr>\n",
       "      <th>11</th>\n",
       "      <td>overcast</td>\n",
       "      <td>mild</td>\n",
       "      <td>high</td>\n",
       "      <td>strong</td>\n",
       "      <td>yes</td>\n",
       "    </tr>\n",
       "    <tr>\n",
       "      <th>12</th>\n",
       "      <td>overcast</td>\n",
       "      <td>hot</td>\n",
       "      <td>normal</td>\n",
       "      <td>weak</td>\n",
       "      <td>yes</td>\n",
       "    </tr>\n",
       "    <tr>\n",
       "      <th>13</th>\n",
       "      <td>rain</td>\n",
       "      <td>mild</td>\n",
       "      <td>high</td>\n",
       "      <td>strong</td>\n",
       "      <td>no</td>\n",
       "    </tr>\n",
       "  </tbody>\n",
       "</table>\n",
       "</div>"
      ],
      "text/plain": [
       "     Outlook Temperature Humidity    Wind Answer\n",
       "0      sunny         hot     high    weak     no\n",
       "1      sunny         hot     high  strong     no\n",
       "2   overcast         hot     high    weak    yes\n",
       "3       rain        mild     high    weak    yes\n",
       "4       rain        cool   normal    weak    yes\n",
       "5       rain        cool   normal  strong     no\n",
       "6   overcast        cool   normal  strong    yes\n",
       "7      sunny        mild     high    weak     no\n",
       "8      sunny        cool   normal    weak    yes\n",
       "9       rain        mild   normal    weak    yes\n",
       "10     sunny        mild   normal  strong    yes\n",
       "11  overcast        mild     high  strong    yes\n",
       "12  overcast         hot   normal    weak    yes\n",
       "13      rain        mild     high  strong     no"
      ]
     },
     "execution_count": 3,
     "metadata": {},
     "output_type": "execute_result"
    }
   ],
   "source": [
    "dataset"
   ]
  },
  {
   "cell_type": "code",
   "execution_count": 4,
   "metadata": {},
   "outputs": [],
   "source": [
    "import math\n",
    "eps = 1e-5\n",
    "def calculate_entropy(dataset):\n",
    "    pos = 0\n",
    "    neg = 0\n",
    "    for i in range(len(dataset)):\n",
    "        answer = dataset.loc[i]['Answer']\n",
    "        if answer == 'yes': \n",
    "            pos += 1\n",
    "        else:\n",
    "            neg += 1\n",
    "    posfrac = pos/(pos + neg)\n",
    "    negfrac = neg/(pos + neg)\n",
    "    entropy = -(posfrac*math.log2(posfrac+eps) + negfrac*math.log2(negfrac+eps))\n",
    "    return entropy"
   ]
  },
  {
   "cell_type": "code",
   "execution_count": 5,
   "metadata": {},
   "outputs": [
    {
     "name": "stdout",
     "output_type": "stream",
     "text": [
      "0.9402571050839954\n"
     ]
    }
   ],
   "source": [
    "print(calculate_entropy(dataset))"
   ]
  },
  {
   "cell_type": "code",
   "execution_count": 6,
   "metadata": {},
   "outputs": [
    {
     "data": {
      "text/html": [
       "<div>\n",
       "<style scoped>\n",
       "    .dataframe tbody tr th:only-of-type {\n",
       "        vertical-align: middle;\n",
       "    }\n",
       "\n",
       "    .dataframe tbody tr th {\n",
       "        vertical-align: top;\n",
       "    }\n",
       "\n",
       "    .dataframe thead th {\n",
       "        text-align: right;\n",
       "    }\n",
       "</style>\n",
       "<table border=\"1\" class=\"dataframe\">\n",
       "  <thead>\n",
       "    <tr style=\"text-align: right;\">\n",
       "      <th></th>\n",
       "      <th>Outlook</th>\n",
       "      <th>Temperature</th>\n",
       "      <th>Humidity</th>\n",
       "      <th>Wind</th>\n",
       "      <th>Answer</th>\n",
       "    </tr>\n",
       "  </thead>\n",
       "  <tbody>\n",
       "    <tr>\n",
       "      <th>0</th>\n",
       "      <td>sunny</td>\n",
       "      <td>hot</td>\n",
       "      <td>high</td>\n",
       "      <td>weak</td>\n",
       "      <td>no</td>\n",
       "    </tr>\n",
       "    <tr>\n",
       "      <th>1</th>\n",
       "      <td>sunny</td>\n",
       "      <td>hot</td>\n",
       "      <td>high</td>\n",
       "      <td>strong</td>\n",
       "      <td>no</td>\n",
       "    </tr>\n",
       "    <tr>\n",
       "      <th>2</th>\n",
       "      <td>sunny</td>\n",
       "      <td>mild</td>\n",
       "      <td>high</td>\n",
       "      <td>weak</td>\n",
       "      <td>no</td>\n",
       "    </tr>\n",
       "    <tr>\n",
       "      <th>3</th>\n",
       "      <td>sunny</td>\n",
       "      <td>cool</td>\n",
       "      <td>normal</td>\n",
       "      <td>weak</td>\n",
       "      <td>yes</td>\n",
       "    </tr>\n",
       "    <tr>\n",
       "      <th>4</th>\n",
       "      <td>sunny</td>\n",
       "      <td>mild</td>\n",
       "      <td>normal</td>\n",
       "      <td>strong</td>\n",
       "      <td>yes</td>\n",
       "    </tr>\n",
       "  </tbody>\n",
       "</table>\n",
       "</div>"
      ],
      "text/plain": [
       "  Outlook Temperature Humidity    Wind Answer\n",
       "0   sunny         hot     high    weak     no\n",
       "1   sunny         hot     high  strong     no\n",
       "2   sunny        mild     high    weak     no\n",
       "3   sunny        cool   normal    weak    yes\n",
       "4   sunny        mild   normal  strong    yes"
      ]
     },
     "execution_count": 6,
     "metadata": {},
     "output_type": "execute_result"
    }
   ],
   "source": [
    "df = dataset[dataset['Outlook'] == 'sunny']\n",
    "df.set_index(pd.Index([n for n in range(len(df))]))"
   ]
  },
  {
   "cell_type": "code",
   "execution_count": 7,
   "metadata": {},
   "outputs": [],
   "source": [
    "def calculate_gain(dataset, feature):\n",
    "    feature_values = set(dataset[feature])\n",
    "    #feature_values.remove('overcast')\n",
    "    entropy = calculate_entropy(dataset)\n",
    "    sum = 0\n",
    "    \n",
    "    for value in feature_values:\n",
    "        partial_dataset = dataset[dataset[feature] == value]\n",
    "        partial_dataset.set_index(pd.Index([n for n in range(len(partial_dataset))]), inplace = True)\n",
    "        sum += len(partial_dataset)/len(dataset)*calculate_entropy(partial_dataset)\n",
    "    \n",
    "    gain = entropy - sum\n",
    "    return gain"
   ]
  },
  {
   "cell_type": "code",
   "execution_count": 8,
   "metadata": {},
   "outputs": [
    {
     "name": "stdout",
     "output_type": "stream",
     "text": [
      "0.24674569786749678\n"
     ]
    }
   ],
   "source": [
    "print(calculate_gain(dataset, 'Outlook'))"
   ]
  },
  {
   "cell_type": "code",
   "execution_count": 9,
   "metadata": {},
   "outputs": [],
   "source": [
    "class Tree:\n",
    "    def __init__(self, feature):\n",
    "        self.feature = feature\n",
    "        self.children = dict()\n",
    "        self.dataset = None\n",
    "        self.type = None\n",
    "        self.label = None"
   ]
  },
  {
   "cell_type": "code",
   "execution_count": 10,
   "metadata": {},
   "outputs": [],
   "source": [
    "features = ['Outlook', 'Temperature', 'Humidity', 'Wind']"
   ]
  },
  {
   "cell_type": "code",
   "execution_count": 11,
   "metadata": {},
   "outputs": [],
   "source": [
    "def get_poscount(dataset):\n",
    "    pos = 0\n",
    "    for i in range(len(dataset)):\n",
    "        if dataset.loc[i]['Answer'] == 'yes':\n",
    "            pos += 1\n",
    "    return pos"
   ]
  },
  {
   "cell_type": "code",
   "execution_count": 12,
   "metadata": {},
   "outputs": [],
   "source": [
    "root = None\n",
    "max_feature = None\n",
    "max_val = 0"
   ]
  },
  {
   "cell_type": "code",
   "execution_count": 13,
   "metadata": {},
   "outputs": [
    {
     "name": "stdout",
     "output_type": "stream",
     "text": [
      "Outlook\n"
     ]
    }
   ],
   "source": [
    "if root == None:\n",
    "    for feature in features:\n",
    "        val = calculate_gain(dataset, feature)\n",
    "        if val > max_val:\n",
    "            max_val = val\n",
    "            max_feature = feature\n",
    "    root = Tree(max_feature)\n",
    "print(max_feature)"
   ]
  },
  {
   "cell_type": "code",
   "execution_count": 14,
   "metadata": {},
   "outputs": [],
   "source": [
    "feature_values = list(set(dataset[root.feature]))\n",
    "if get_poscount(dataset) in [len(dataset), 0]:\n",
    "    root.type = 'leaf'\n",
    "else:\n",
    "    root.type = 'node'\n",
    "root.dataset = dataset"
   ]
  },
  {
   "cell_type": "code",
   "execution_count": 15,
   "metadata": {},
   "outputs": [],
   "source": [
    "for value in feature_values:\n",
    "    sub_dataset = dataset[dataset[root.feature] == value]\n",
    "    sub_dataset.set_index(pd.Index(range(len(sub_dataset))), inplace = True)\n",
    "    poscount = get_poscount(sub_dataset)\n",
    "    sub_features = features\n",
    "    if root.feature in sub_features:\n",
    "        sub_features.remove(root.feature)\n",
    "    \n",
    "    max_val = 0\n",
    "    max_feature = None\n",
    "    \n",
    "    for feature in sub_features:\n",
    "        gain = calculate_gain(sub_dataset, feature)\n",
    "        if gain > max_val:\n",
    "            max_val = gain\n",
    "            max_feature = feature\n",
    "    new_node = Tree(max_feature)\n",
    "    \n",
    "    if poscount in [len(sub_dataset), 0]:\n",
    "        new_node.type = 'leaf'\n",
    "        new_node.label = sub_dataset.iloc[0]['Answer']\n",
    "    else:\n",
    "        new_node.type = 'node'\n",
    "    new_node.dataset = sub_dataset\n",
    "    root.children[value] = new_node"
   ]
  },
  {
   "cell_type": "code",
   "execution_count": 16,
   "metadata": {},
   "outputs": [],
   "source": [
    "for key in root.children.keys():\n",
    "    child = root.children[key]\n",
    "    if child.type != 'leaf':\n",
    "        feature_values = list(set(dataset[child.feature]))\n",
    "        for value in feature_values:\n",
    "            sub_dataset = child.dataset[child.dataset[child.feature] == value]\n",
    "            sub_dataset.set_index(pd.Index(range(len(sub_dataset))), inplace = True)\n",
    "            poscount = get_poscount(sub_dataset)\n",
    "            sub_features = features\n",
    "            if root.feature in sub_features:\n",
    "                sub_features.remove(root.feature)\n",
    "            if child.feature in sub_features:\n",
    "                sub_features.remove(child.feature)\n",
    "    \n",
    "            max_val = 0\n",
    "            max_feature = None\n",
    "    \n",
    "            for feature in sub_features:\n",
    "                gain = calculate_gain(sub_dataset, feature)\n",
    "                if gain > max_val:\n",
    "                    max_val = gain\n",
    "                    max_feature = feature\n",
    "            new_node = Tree(max_feature)\n",
    "    \n",
    "            if poscount in [len(sub_dataset), 0]:\n",
    "                new_node.type = 'leaf'\n",
    "                new_node.label = sub_dataset.iloc[0]['Answer']\n",
    "            else:\n",
    "                new_node.type = 'node'\n",
    "            new_node.dataset = sub_dataset\n",
    "            child.children[value] = new_node"
   ]
  },
  {
   "cell_type": "code",
   "execution_count": 20,
   "metadata": {},
   "outputs": [
    {
     "name": "stdout",
     "output_type": "stream",
     "text": [
      "None\n",
      "    Outlook Temperature Humidity    Wind Answer\n",
      "0  overcast         hot     high    weak    yes\n",
      "1  overcast        cool   normal  strong    yes\n",
      "2  overcast        mild     high  strong    yes\n",
      "3  overcast         hot   normal    weak    yes\n",
      "Humidity\n",
      "  Outlook Temperature Humidity    Wind Answer\n",
      "0   sunny         hot     high    weak     no\n",
      "1   sunny         hot     high  strong     no\n",
      "2   sunny        mild     high    weak     no\n",
      "3   sunny        cool   normal    weak    yes\n",
      "4   sunny        mild   normal  strong    yes\n",
      "  Outlook Temperature Humidity    Wind Answer\n",
      "0   sunny        cool   normal    weak    yes\n",
      "1   sunny        mild   normal  strong    yes\n",
      "  Outlook Temperature Humidity    Wind Answer\n",
      "0   sunny         hot     high    weak     no\n",
      "1   sunny         hot     high  strong     no\n",
      "2   sunny        mild     high    weak     no\n",
      "Wind\n",
      "  Outlook Temperature Humidity    Wind Answer\n",
      "0    rain        mild     high    weak    yes\n",
      "1    rain        cool   normal    weak    yes\n",
      "2    rain        cool   normal  strong     no\n",
      "3    rain        mild   normal    weak    yes\n",
      "4    rain        mild     high  strong     no\n",
      "  Outlook Temperature Humidity  Wind Answer\n",
      "0    rain        mild     high  weak    yes\n",
      "1    rain        cool   normal  weak    yes\n",
      "2    rain        mild   normal  weak    yes\n",
      "  Outlook Temperature Humidity    Wind Answer\n",
      "0    rain        cool   normal  strong     no\n",
      "1    rain        mild     high  strong     no\n"
     ]
    }
   ],
   "source": [
    "for key in root.children.keys():\n",
    "    print(root.children[key].feature)\n",
    "    print(root.children[key].dataset)\n",
    "    for child_key in root.children[key].children.keys():\n",
    "        print(root.children[key].children[child_key].dataset)"
   ]
  },
  {
   "cell_type": "code",
   "execution_count": null,
   "metadata": {},
   "outputs": [],
   "source": []
  }
 ],
 "metadata": {
  "interpreter": {
   "hash": "916dbcbb3f70747c44a77c7bcd40155683ae19c65e1c03b4aa3499c5328201f1"
  },
  "kernelspec": {
   "display_name": "Python 3",
   "language": "python",
   "name": "python3"
  },
  "language_info": {
   "codemirror_mode": {
    "name": "ipython",
    "version": 3
   },
   "file_extension": ".py",
   "mimetype": "text/x-python",
   "name": "python",
   "nbconvert_exporter": "python",
   "pygments_lexer": "ipython3",
   "version": "3.8.5"
  }
 },
 "nbformat": 4,
 "nbformat_minor": 2
}
